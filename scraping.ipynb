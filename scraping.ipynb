{
 "cells": [
  {
   "cell_type": "markdown",
   "metadata": {},
   "source": [
    "**Scraping and Wrangling**\n",
    "\n",
    "To begin I will be using the data from the 14 playoff matches"
   ]
  },
  {
   "cell_type": "code",
   "execution_count": 25,
   "metadata": {},
   "outputs": [
    {
     "name": "stdout",
     "output_type": "stream",
     "text": [
      "2023-06-17 01:30:00\n",
      "['Paper Rex', 'DRX']\n",
      "2 0 Paper Rex DRX\n",
      "BO3\n"
     ]
    },
    {
     "ename": "IndexError",
     "evalue": "list index out of range",
     "output_type": "error",
     "traceback": [
      "\u001b[0;31m---------------------------------------------------------------------------\u001b[0m",
      "\u001b[0;31mIndexError\u001b[0m                                Traceback (most recent call last)",
      "Cell \u001b[0;32mIn[25], line 85\u001b[0m\n\u001b[1;32m     82\u001b[0m     columns \u001b[38;5;241m=\u001b[39m row\u001b[38;5;241m.\u001b[39mfind_elements(By\u001b[38;5;241m.\u001b[39mTAG_NAME, \u001b[38;5;124m'\u001b[39m\u001b[38;5;124mtd\u001b[39m\u001b[38;5;124m'\u001b[39m)\n\u001b[1;32m     84\u001b[0m \u001b[38;5;66;03m# Assuming the first column contains the agent's image with title attribute\u001b[39;00m\n\u001b[0;32m---> 85\u001b[0m     agent_name \u001b[38;5;241m=\u001b[39m \u001b[43mcolumns\u001b[49m\u001b[43m[\u001b[49m\u001b[38;5;241;43m0\u001b[39;49m\u001b[43m]\u001b[49m\u001b[38;5;241m.\u001b[39mfind_element(By\u001b[38;5;241m.\u001b[39mTAG_NAME, \u001b[38;5;124m'\u001b[39m\u001b[38;5;124mimg\u001b[39m\u001b[38;5;124m'\u001b[39m)\u001b[38;5;241m.\u001b[39mget_attribute(\u001b[38;5;124m'\u001b[39m\u001b[38;5;124mtitle\u001b[39m\u001b[38;5;124m'\u001b[39m)\n\u001b[1;32m     87\u001b[0m \u001b[38;5;66;03m# Extract the rest of the data\u001b[39;00m\n\u001b[1;32m     88\u001b[0m     row_data \u001b[38;5;241m=\u001b[39m [col\u001b[38;5;241m.\u001b[39mtext \u001b[38;5;28;01mfor\u001b[39;00m col \u001b[38;5;129;01min\u001b[39;00m columns]\n",
      "\u001b[0;31mIndexError\u001b[0m: list index out of range"
     ]
    }
   ],
   "source": [
    "import pandas as pd\n",
    "from selenium import webdriver\n",
    "from selenium.webdriver.common.by import By\n",
    "driver = webdriver.Firefox()\n",
    "\n",
    "links = [\n",
    "    'https://www.vlr.gg/220441/paper-rex-vs-drx-champions-tour-2023-masters-tokyo-ubqf',\n",
    "    'https://www.vlr.gg/220442/fnatic-vs-nrg-esports-champions-tour-2023-masters-tokyo-ubqf',\n",
    "    'https://www.vlr.gg/220443/team-liquid-vs-edward-gaming-champions-tour-2023-masters-tokyo-ubqf',\n",
    "    'https://www.vlr.gg/220444/loud-vs-evil-geniuses-champions-tour-2023-masters-tokyo-ubqf',\n",
    "    'https://www.vlr.gg/220445/paper-rex-vs-fnatic-champions-tour-2023-masters-tokyo-ubsf',\n",
    "    'https://www.vlr.gg/220446/team-liquid-vs-evil-geniuses-champions-tour-2023-masters-tokyo-ubsf',\n",
    "    'https://www.vlr.gg/220447/fnatic-vs-evil-geniuses-champions-tour-2023-masters-tokyo-ubf',\n",
    "    'https://www.vlr.gg/220448/fnatic-vs-evil-geniuses-champions-tour-2023-masters-tokyo-gf'\n",
    "    'https://www.vlr.gg/220449/drx-vs-nrg-esports-champions-tour-2023-masters-tokyo-lr1',\n",
    "    'https://www.vlr.gg/220450/edward-gaming-vs-loud-champions-tour-2023-masters-tokyo-lr1',\n",
    "    'https://www.vlr.gg/220451/team-liquid-vs-nrg-esports-champions-tour-2023-masters-tokyo-lr2',\n",
    "    'https://www.vlr.gg/220452/paper-rex-vs-edward-gaming-champions-tour-2023-masters-tokyo-lr2',\n",
    "    'https://www.vlr.gg/220453/nrg-esports-vs-paper-rex-champions-tour-2023-masters-tokyo-lr3',\n",
    "    'https://www.vlr.gg/220454/evil-geniuses-vs-paper-rex-champions-tour-2023-masters-tokyo-lbf'\n",
    "]\n",
    "\n",
    "\n",
    "driver.get(links[0])\n",
    "\n",
    "#Find date\n",
    "date_element = driver.find_element(By.CLASS_NAME,'moment-tz-convert')\n",
    "date = date_element.get_attribute('data-utc-ts')\n",
    "print(date) ##PRINT\n",
    "\n",
    "#Find team\n",
    "teams_elements = driver.find_elements(By.CLASS_NAME, 'wf-title-med')\n",
    "teams = [team.text for team in teams_elements]\n",
    "print(teams) ##PRINT\n",
    "\n",
    "#Find Score and winner/loser\n",
    "\n",
    "    # Extracting the score values\n",
    "winner_score_element = driver.find_element(By.CLASS_NAME, 'match-header-vs-score-winner')\n",
    "winner_score = int(winner_score_element.text)  # Convert the score to an integer for comparison\n",
    "\n",
    "loser_score_element = driver.find_element(By.CLASS_NAME, 'match-header-vs-score-loser')\n",
    "loser_score = int(loser_score_element.text)\n",
    "    #To find winner\n",
    "if winner_score > loser_score:\n",
    "    winning_team = teams[0]\n",
    "    losing_team = teams[1]\n",
    "else:\n",
    "    winning_team = teams[1]\n",
    "    losing_team = teams[0]\n",
    "print(winner_score,loser_score,winning_team,losing_team) ##PRINT\n",
    "\n",
    "\n",
    "#Find series type\n",
    "series_type_element = driver.find_elements(By.CLASS_NAME, 'match-header-vs-note')\n",
    "series_type = series_type_element[1].text  \n",
    "print(series_type)\n",
    "\n",
    "# Get all the map boxes\n",
    "all_map_boxes = driver.find_elements(By.CLASS_NAME, 'vm-stats-gamesnav-item')\n",
    "\n",
    "# Filter out disabled map tabs\n",
    "clickable_map_boxes = [box for box in all_map_boxes if 'mod-disabled' not in box.get_attribute('class')]\n",
    "\n",
    "for box in clickable_map_boxes:\n",
    "    box.click()  # Click on the map box\n",
    "\n",
    "    # Find the div block that becomes visible\n",
    "    visible_div = driver.find_element(By.CSS_SELECTOR, \"div[style*='display: block;']\")\n",
    "    # Find the stats tables for both teams within the visible div\n",
    "    stats_tables = visible_div.find_elements(By.CLASS_NAME, 'wf-table-inset')\n",
    "\n",
    "   # Iterate over the tables to extract information:\n",
    "\n",
    "\n",
    "\n",
    "\n"
   ]
  }
 ],
 "metadata": {
  "interpreter": {
   "hash": "aee8b7b246df8f9039afb4144a1f6fd8d2ca17a180786b69acc140d282b71a49"
  },
  "kernelspec": {
   "display_name": "Python 3.12.0 64-bit",
   "language": "python",
   "name": "python3"
  },
  "language_info": {
   "codemirror_mode": {
    "name": "ipython",
    "version": 3
   },
   "file_extension": ".py",
   "mimetype": "text/x-python",
   "name": "python",
   "nbconvert_exporter": "python",
   "pygments_lexer": "ipython3",
   "version": "3.12.0"
  },
  "orig_nbformat": 4
 },
 "nbformat": 4,
 "nbformat_minor": 2
}
